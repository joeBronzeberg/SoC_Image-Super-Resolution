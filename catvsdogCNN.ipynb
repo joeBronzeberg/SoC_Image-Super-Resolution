{
  "nbformat": 4,
  "nbformat_minor": 0,
  "metadata": {
    "colab": {
      "provenance": [],
      "gpuType": "T4"
    },
    "kernelspec": {
      "name": "python3",
      "display_name": "Python 3"
    },
    "language_info": {
      "name": "python"
    },
    "accelerator": "GPU"
  },
  "cells": [
    {
      "cell_type": "code",
      "metadata": {
        "id": "-fSp7nivA-5m"
      },
      "source": [
        "import numpy as np\n",
        "import matplotlib.pyplot as plt\n",
        "%matplotlib inline\n",
        "\n",
        "import torch\n",
        "import torch.nn as nn\n",
        "\n",
        "import torch.optim as optim\n",
        "from torch.utils.data import DataLoader, SubsetRandomSampler\n",
        "\n",
        "import torchvision\n",
        "from torchvision import transforms, datasets"
      ],
      "execution_count": 1,
      "outputs": []
    },
    {
      "cell_type": "code",
      "source": [
        "!unzip catdogdata.zip"
      ],
      "metadata": {
        "id": "nJ_IxNVdQOzy"
      },
      "execution_count": null,
      "outputs": []
    },
    {
      "cell_type": "code",
      "source": [
        "data_dir= \"kagglecatsanddogs_3367a/PetImages\""
      ],
      "metadata": {
        "id": "s102LgljokIn"
      },
      "execution_count": null,
      "outputs": []
    },
    {
      "cell_type": "code",
      "execution_count": null,
      "metadata": {
        "id": "A8EAVcDrkggf"
      },
      "outputs": [],
      "source": [
        "image_size = 64\n",
        "\n",
        "data_transforms = transforms.Compose([transforms.Resize(image_size),\n",
        "                                      transforms.CenterCrop(image_size),\n",
        "                                      transforms.Grayscale(num_output_channels=1),\n",
        "                                      transforms.ToTensor(),\n",
        "\n",
        "                                     ])\n",
        "\n",
        "dataset = datasets.ImageFolder(data_dir,transform = data_transforms)\n",
        "\n",
        "classes = dataset.classes\n",
        "print(classes)\n",
        "img, label = dataset[0]\n",
        "print(img.shape,label)"
      ]
    },
    {
      "cell_type": "code",
      "source": [
        "img = img.reshape(64,64,-1)\n",
        "plt.imshow(img,cmap=\"gray\")"
      ],
      "metadata": {
        "id": "DEDpJxyICpsw"
      },
      "execution_count": null,
      "outputs": []
    },
    {
      "cell_type": "code",
      "source": [
        "batch_size = 128\n",
        "valid_size = 0.20\n",
        "test_size = 0.10\n",
        "\n",
        "dataset_size = len(dataset)\n",
        "indices = list(range(dataset_size))\n",
        "np.random.shuffle(indices)\n",
        "\n",
        "split1 = int(np.floor(valid_size * dataset_size))\n",
        "split2 = int(np.floor(test_size*dataset_size)) + split1\n",
        "print(split1,split2)\n",
        "\n",
        "valid_idx, test_idx, train_idx = indices[:split1], indices[split1:split2],indices[split2:]\n",
        "\n",
        "training_data_sampler = SubsetRandomSampler(train_idx)\n",
        "valid_data_sampler = SubsetRandomSampler(valid_idx)\n",
        "test_data_sampler = SubsetRandomSampler(test_idx)\n",
        "\n",
        "train_loader = DataLoader(dataset, sampler = training_data_sampler, batch_size = batch_size)\n",
        "val_loader    = DataLoader(dataset, sampler = valid_data_sampler, batch_size = batch_size)\n",
        "test_loader     = DataLoader(dataset, sampler = test_data_sampler, batch_size = batch_size)"
      ],
      "metadata": {
        "id": "grh_CINtsA1N"
      },
      "execution_count": null,
      "outputs": []
    },
    {
      "cell_type": "code",
      "source": [
        "class Model(nn.Module):\n",
        "    def __init__(self):\n",
        "\n",
        "        super(Model, self).__init__()\n",
        "        self.network = nn.Sequential(\n",
        "\n",
        "            # - x 1 x 64 x 64\n",
        "            nn.Conv2d(1, 32, kernel_size = 3, padding = 1),\n",
        "            nn.ReLU(),\n",
        "            nn.MaxPool2d(2,2),\n",
        "\n",
        "            # - x 32 x 32 x 32\n",
        "            nn.Conv2d(32, 64, kernel_size = 3, padding = 1),\n",
        "            nn.ReLU(),\n",
        "            nn.MaxPool2d(2,2),\n",
        "\n",
        "            # - x 64 x 16 x 16\n",
        "            nn.Conv2d(64, 128, kernel_size = 3, padding = 1),\n",
        "            nn.ReLU(),\n",
        "            nn.MaxPool2d(2,2),\n",
        "\n",
        "            # - x 128 x 8 x 8\n",
        "            nn.Conv2d(128, 256, kernel_size = 3, padding = 1),\n",
        "            nn.ReLU(),\n",
        "            nn.MaxPool2d(2,2),\n",
        "\n",
        "            # - x 256 x 4 x 4\n",
        "\n",
        "            nn.Flatten(),\n",
        "            nn.Linear(256*4*4,512),\n",
        "            nn.ReLU(),\n",
        "            nn.Linear(512, 1),\n",
        "            nn.Sigmoid()\n",
        "        )\n",
        "\n",
        "    def forward(self, x):\n",
        "        x = self.network(x)\n",
        "        return x\n"
      ],
      "metadata": {
        "id": "nYwSDOtR2LHW"
      },
      "execution_count": 3,
      "outputs": []
    },
    {
      "cell_type": "code",
      "source": [
        "device =  torch.device('cuda:0' if torch.cuda.is_available else 'cpu')"
      ],
      "metadata": {
        "id": "iAdjFC1SxGc4"
      },
      "execution_count": null,
      "outputs": []
    },
    {
      "cell_type": "code",
      "source": [
        "model = Model().to(device)"
      ],
      "metadata": {
        "id": "JfJx_LcQHmiU"
      },
      "execution_count": 4,
      "outputs": []
    },
    {
      "cell_type": "code",
      "source": [
        "criterion = nn.BCELoss().to(device)\n",
        "optimiser = optim.Adam(model.parameters(), lr= 0.001).to(device)"
      ],
      "metadata": {
        "id": "PoZqYGP7v55h"
      },
      "execution_count": null,
      "outputs": []
    },
    {
      "cell_type": "code",
      "source": [
        "def train(epochs):\n",
        "  for epoch in range(epochs):\n",
        "    model.train()\n",
        "    for batch in train_loader:\n",
        "      xb, labels = batch\n",
        "      xb = xb.to(device)\n",
        "      ypred = model(xb)\n",
        "      labels = labels.to(device)\n",
        "      loss = criterion(ypred,labels)\n",
        "      loss.backward()\n",
        "      optimiser.step()\n",
        "      optimiser.zero_grad\n",
        "    model.eval()\n",
        "    val_loss = 0.0\n",
        "    correct_preds = 0\n",
        "    val_size = 0\n",
        "    for batch in val_loader:\n",
        "      xb, labels = batch\n",
        "      xb = xb.to(device)\n",
        "      ypred = model(xb)\n",
        "      labels = labels.to(device)\n",
        "      loss = criterion(ypred,labels)\n",
        "      val_loss += loss.data.item()*labels.shape[0]\n",
        "      val_size += labels.shape[0]\n",
        "      binary_preds = (ypred >= 0.5).int()\n",
        "      correct_preds += (binary_preds == labels).sum().item()\n",
        "    val_loss = val_loss/val_size\n",
        "    val_accuracy = correct_preds/val_size\n",
        "    print(f\"Epoch: {epoch+1} val_loss= {val_loss:.4f} val_accuracy= {val_accuracy:.4f}\")"
      ],
      "metadata": {
        "id": "eNObRUvY0dR0"
      },
      "execution_count": null,
      "outputs": []
    },
    {
      "cell_type": "code",
      "source": [
        "def test():\n",
        "    model.eval()\n",
        "    correct_preds = 0\n",
        "    test_size = 0\n",
        "    for batch in test_loader:\n",
        "      xb, labels = batch\n",
        "      xb = xb.to(device)\n",
        "      ypred = model(xb)\n",
        "      labels = labels.to(device)\n",
        "      test_size += labels.shape[0]\n",
        "      binary_preds = (ypred >= 0.5).int()\n",
        "      correct_preds += (binary_preds == labels).sum().item()\n",
        "    test_accuracy = correct_preds/test_size\n",
        "    print(f\"Accuracy on test data: {test_accuracy:.4f}\")"
      ],
      "metadata": {
        "id": "3DJj_pHhL_wZ"
      },
      "execution_count": null,
      "outputs": []
    },
    {
      "cell_type": "code",
      "source": [
        "num_epochs = 20\n",
        "train(num_epochs)"
      ],
      "metadata": {
        "id": "gL7YeaWJNclC"
      },
      "execution_count": null,
      "outputs": []
    },
    {
      "cell_type": "code",
      "source": [
        "test()"
      ],
      "metadata": {
        "id": "uXmVT8ywNry_"
      },
      "execution_count": null,
      "outputs": []
    },
    {
      "cell_type": "code",
      "source": [],
      "metadata": {
        "id": "DcAEOihtQS7D"
      },
      "execution_count": null,
      "outputs": []
    }
  ]
}