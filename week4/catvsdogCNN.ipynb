{
 "cells": [
  {
   "cell_type": "code",
   "execution_count": 2,
   "metadata": {},
   "outputs": [
    {
     "name": "stdout",
     "output_type": "stream",
     "text": [
      "1.26.4\n"
     ]
    }
   ],
   "source": [
    "import numpy as np\n",
    "print(np.__version__) # must be less than \"2\"\n",
    "import matplotlib.pyplot as plt\n",
    "%matplotlib inline"
   ]
  },
  {
   "cell_type": "code",
   "execution_count": 3,
   "metadata": {},
   "outputs": [],
   "source": [
    "import torch\n",
    "import torch.nn as nn"
   ]
  },
  {
   "cell_type": "code",
   "execution_count": 4,
   "metadata": {
    "id": "-fSp7nivA-5m"
   },
   "outputs": [],
   "source": [
    "import torch.optim as optim\n",
    "from torch.utils.data import DataLoader, SubsetRandomSampler"
   ]
  },
  {
   "cell_type": "code",
   "execution_count": 5,
   "metadata": {},
   "outputs": [],
   "source": [
    "import torchvision\n",
    "from torchvision import transforms, datasets"
   ]
  },
  {
   "cell_type": "code",
   "execution_count": 6,
   "metadata": {
    "id": "s102LgljokIn"
   },
   "outputs": [],
   "source": [
    "data_dir= \"catdogdata/kagglecatsanddogs_3367a/PetImages\""
   ]
  },
  {
   "cell_type": "code",
   "execution_count": 7,
   "metadata": {
    "id": "A8EAVcDrkggf"
   },
   "outputs": [
    {
     "name": "stdout",
     "output_type": "stream",
     "text": [
      "['Cat', 'Dog']\n",
      "torch.Size([1, 64, 64]) 0\n"
     ]
    }
   ],
   "source": [
    "image_size = 64\n",
    "\n",
    "data_transforms = transforms.Compose([transforms.Resize(image_size),\n",
    "                                      transforms.CenterCrop(image_size),\n",
    "                                      transforms.Grayscale(num_output_channels=1),\n",
    "                                      transforms.ToTensor()\n",
    "                                     ])\n",
    "\n",
    "dataset = datasets.ImageFolder(data_dir,transform = data_transforms)\n",
    "\n",
    "classes = dataset.classes\n",
    "print(classes)\n",
    "img, label = dataset[0]\n",
    "print(img.shape,label)"
   ]
  },
  {
   "cell_type": "code",
   "execution_count": 8,
   "metadata": {
    "id": "DEDpJxyICpsw"
   },
   "outputs": [
    {
     "data": {
      "text/plain": [
       "<matplotlib.image.AxesImage at 0x1747eef3f50>"
      ]
     },
     "execution_count": 8,
     "metadata": {},
     "output_type": "execute_result"
    },
    {
     "data": {
      "image/png": "[encoded data removed]",
      "text/plain": [
       "<Figure size 640x480 with 1 Axes>"
      ]
     },
     "metadata": {},
     "output_type": "display_data"
    }
   ],
   "source": [
    "img = img.reshape(64,64,-1)\n",
    "plt.imshow(img,cmap=\"gray\")"
   ]
  },
  {
   "cell_type": "code",
   "execution_count": 9,
   "metadata": {
    "id": "grh_CINtsA1N"
   },
   "outputs": [
    {
     "name": "stdout",
     "output_type": "stream",
     "text": [
      "4991 7486\n"
     ]
    }
   ],
   "source": [
    "batch_size = 128\n",
    "valid_size = 0.20\n",
    "test_size = 0.10\n",
    "\n",
    "dataset_size = len(dataset)\n",
    "indices = list(range(dataset_size))\n",
    "np.random.shuffle(indices)\n",
    "\n",
    "split1 = int(np.floor(valid_size * dataset_size))\n",
    "split2 = int(np.floor(test_size*dataset_size)) + split1\n",
    "print(split1,split2)\n",
    "\n",
    "valid_idx, test_idx, train_idx = indices[:split1], indices[split1:split2],indices[split2:]\n",
    "\n",
    "training_data_sampler = SubsetRandomSampler(train_idx)\n",
    "valid_data_sampler = SubsetRandomSampler(valid_idx)\n",
    "test_data_sampler = SubsetRandomSampler(test_idx)\n",
    "\n",
    "train_loader = DataLoader(dataset, sampler = training_data_sampler, batch_size = batch_size)\n",
    "val_loader    = DataLoader(dataset, sampler = valid_data_sampler, batch_size = batch_size)\n",
    "test_loader     = DataLoader(dataset, sampler = test_data_sampler, batch_size = batch_size)"
   ]
  },
  {
   "cell_type": "code",
   "execution_count": 10,
   "metadata": {
    "id": "nYwSDOtR2LHW"
   },
   "outputs": [],
   "source": [
    "class Model(nn.Module):\n",
    "    def __init__(self):\n",
    "\n",
    "        super(Model, self).__init__()\n",
    "        self.network = nn.Sequential(\n",
    "\n",
    "            # - x 1 x 64 x 64\n",
    "            nn.Conv2d(1, 32, kernel_size = 3, padding = 1),\n",
    "            nn.ReLU(),\n",
    "            nn.MaxPool2d(2,2),\n",
    "\n",
    "            # - x 32 x 32 x 32\n",
    "            nn.Conv2d(32, 64, kernel_size = 3, padding = 1),\n",
    "            nn.ReLU(),\n",
    "            nn.MaxPool2d(2,2),\n",
    "\n",
    "            # - x 64 x 16 x 16\n",
    "            nn.Conv2d(64, 128, kernel_size = 3, padding = 1),\n",
    "            nn.ReLU(),\n",
    "            nn.MaxPool2d(2,2),\n",
    "\n",
    "            # - x 128 x 8 x 8\n",
    "            nn.Conv2d(128, 256, kernel_size = 3, padding = 1),\n",
    "            nn.ReLU(),\n",
    "            nn.MaxPool2d(2,2),\n",
    "\n",
    "            # - x 256 x 4 x 4\n",
    "\n",
    "            nn.Flatten(),\n",
    "            nn.Linear(256*4*4,512),\n",
    "            nn.ReLU(),\n",
    "            nn.Linear(512, 1),\n",
    "            nn.Sigmoid()\n",
    "        )\n",
    "\n",
    "    def forward(self, x):\n",
    "        x = self.network(x)\n",
    "        return x\n"
   ]
  },
  {
   "cell_type": "code",
   "execution_count": 11,
   "metadata": {
    "id": "iAdjFC1SxGc4"
   },
   "outputs": [
    {
     "name": "stdout",
     "output_type": "stream",
     "text": [
      "cpu\n"
     ]
    }
   ],
   "source": [
    "device = 'cpu'  # torch.device('cuda:0' if torch.cuda.is_available else 'cpu')\n",
    "print(device)"
   ]
  },
  {
   "cell_type": "code",
   "execution_count": 18,
   "metadata": {
    "id": "JfJx_LcQHmiU"
   },
   "outputs": [],
   "source": [
    "model = Model()"
   ]
  },
  {
   "cell_type": "code",
   "execution_count": 19,
   "metadata": {
    "id": "PoZqYGP7v55h"
   },
   "outputs": [],
   "source": [
    "criterion = nn.BCELoss()\n",
    "optimiser = optim.SGD(model.parameters(), lr= 0.001)"
   ]
  },
  {
   "cell_type": "code",
   "execution_count": 14,
   "metadata": {
    "id": "eNObRUvY0dR0"
   },
   "outputs": [],
   "source": [
    "def train(epochs):\n",
    "  for epoch in range(epochs):\n",
    "    model.train()\n",
    "    for batch in train_loader:\n",
    "      xb, labels = batch\n",
    "      labels = labels.view(-1,1).float()\n",
    "      ypred = model(xb).float()\n",
    "      loss = criterion(ypred,labels)\n",
    "      loss.backward()\n",
    "      optimiser.step()\n",
    "      optimiser.zero_grad\n",
    "    model.eval()\n",
    "    val_loss = 0.0\n",
    "    correct_preds = 0\n",
    "    val_size = 0\n",
    "    for batch in val_loader:\n",
    "      xb, labels = batch\n",
    "      labels = labels.view(-1,1).float()\n",
    "      ypred = model(xb).float()\n",
    "      loss = criterion(ypred,labels)\n",
    "      val_loss += loss.data.item()*labels.shape[0]\n",
    "      val_size += labels.shape[0]\n",
    "      binary_preds = (ypred >= 0.5).int()\n",
    "      correct_preds += (binary_preds == labels).sum().item()\n",
    "    val_loss = val_loss/val_size\n",
    "    val_accuracy = correct_preds/val_size\n",
    "    print(f\"Epoch: {epoch+1} val_loss= {val_loss:.4f} val_accuracy= {val_accuracy:.4f}\")"
   ]
  },
  {
   "cell_type": "code",
   "execution_count": 15,
   "metadata": {
    "id": "3DJj_pHhL_wZ"
   },
   "outputs": [],
   "source": [
    "def test():\n",
    "    model.eval()\n",
    "    correct_preds = 0\n",
    "    test_size = 0\n",
    "    for batch in test_loader:\n",
    "      xb, labels = batch\n",
    "      labels = labels.view(-1,1).float()\n",
    "      ypred = model(xb).float()\n",
    "      test_size += labels.shape[0]\n",
    "      binary_preds = (ypred >= 0.5).int()\n",
    "      correct_preds += (binary_preds == labels).sum().item()\n",
    "    test_accuracy = correct_preds/test_size\n",
    "    print(f\"Accuracy on test data: {test_accuracy:.4f}\")"
   ]
  },
  {
   "cell_type": "code",
   "execution_count": 16,
   "metadata": {
    "id": "uXmVT8ywNry_"
   },
   "outputs": [
    {
     "name": "stdout",
     "output_type": "stream",
     "text": [
      "Accuracy on test data: 0.5030\n"
     ]
    }
   ],
   "source": [
    "test()"
   ]
  },
  {
   "cell_type": "code",
   "execution_count": 20,
   "metadata": {
    "id": "gL7YeaWJNclC"
   },
   "outputs": [
    {
     "name": "stdout",
     "output_type": "stream",
     "text": [
      "Epoch: 1 val_loss= 0.6940 val_accuracy= 0.4887\n",
      "Epoch: 2 val_loss= 0.6917 val_accuracy= 0.5207\n",
      "Epoch: 3 val_loss= 0.6911 val_accuracy= 0.5093\n",
      "Epoch: 4 val_loss= 0.6856 val_accuracy= 0.5358\n",
      "Epoch: 5 val_loss= 0.6756 val_accuracy= 0.5804\n",
      "Epoch: 6 val_loss= 0.6666 val_accuracy= 0.5822\n",
      "Epoch: 7 val_loss= 0.6441 val_accuracy= 0.6353\n",
      "Epoch: 8 val_loss= 0.6215 val_accuracy= 0.6674\n",
      "Epoch: 9 val_loss= 0.5962 val_accuracy= 0.6908\n",
      "Epoch: 10 val_loss= 0.5974 val_accuracy= 0.6906\n",
      "Epoch: 11 val_loss= 0.5904 val_accuracy= 0.6868\n",
      "Epoch: 12 val_loss= 0.5623 val_accuracy= 0.7157\n",
      "Epoch: 13 val_loss= 0.5543 val_accuracy= 0.7207\n",
      "Epoch: 14 val_loss= 0.5347 val_accuracy= 0.7269\n",
      "Epoch: 15 val_loss= 0.5639 val_accuracy= 0.7017\n",
      "Epoch: 16 val_loss= 0.5590 val_accuracy= 0.7257\n",
      "Epoch: 17 val_loss= 0.5184 val_accuracy= 0.7407\n",
      "Epoch: 18 val_loss= 0.5204 val_accuracy= 0.7512\n",
      "Epoch: 19 val_loss= 0.5033 val_accuracy= 0.7572\n",
      "Epoch: 20 val_loss= 0.4979 val_accuracy= 0.7714\n",
      "Epoch: 21 val_loss= 0.5282 val_accuracy= 0.7784\n",
      "Epoch: 22 val_loss= 0.5454 val_accuracy= 0.7606\n",
      "Epoch: 23 val_loss= 0.5733 val_accuracy= 0.7706\n",
      "Epoch: 24 val_loss= 0.6283 val_accuracy= 0.7662\n",
      "Epoch: 25 val_loss= 0.7322 val_accuracy= 0.7596\n"
     ]
    }
   ],
   "source": [
    "num_epochs = 25\n",
    "train(num_epochs)"
   ]
  },
  {
   "cell_type": "code",
   "execution_count": 21,
   "metadata": {
    "id": "DcAEOihtQS7D"
   },
   "outputs": [
    {
     "name": "stdout",
     "output_type": "stream",
     "text": [
      "Accuracy on test data: 0.7639\n"
     ]
    }
   ],
   "source": [
    "test()"
   ]
  },
  {
   "cell_type": "code",
   "execution_count": null,
   "metadata": {},
   "outputs": [],
   "source": []
  }
 ],
 "metadata": {
  "accelerator": "GPU",
  "colab": {
   "gpuType": "T4",
   "provenance": []
  },
  "kernelspec": {
   "display_name": "Python 3 (ipykernel)",
   "language": "python",
   "name": "python3"
  },
  "language_info": {
   "codemirror_mode": {
    "name": "ipython",
    "version": 3
   },
   "file_extension": ".py",
   "mimetype": "text/x-python",
   "name": "python",
   "nbconvert_exporter": "python",
   "pygments_lexer": "ipython3",
   "version": "3.12.4"
  }
 },
 "nbformat": 4,
 "nbformat_minor": 4
}
