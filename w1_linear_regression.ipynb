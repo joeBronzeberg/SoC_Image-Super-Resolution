{
 "cells": [
  {
   "cell_type": "code",
   "execution_count": 29,
   "id": "93dd8697-e78a-475f-9caf-17a439a7038c",
   "metadata": {},
   "outputs": [],
   "source": [
    "import pandas as pd\n",
    "import numpy as np\n",
    "import math"
   ]
  },
  {
   "cell_type": "code",
   "execution_count": 30,
   "id": "9b10217b-ce0e-4db6-abc7-b4e4bec89fb6",
   "metadata": {},
   "outputs": [],
   "source": [
    "def DataLoader(path):\n",
    "    df = pd.read_csv(path)\n",
    "    print('data shape:',df.shape)\n",
    "    df= df.dropna()\n",
    "    print('shape after cleaning:',df.shape)\n",
    "    x = df.loc[:,'Adult Mortality':].to_numpy()\n",
    "    print('number of input features:',x.shape[1])\n",
    "    print('training data shape:',x.shape)\n",
    "    y = df.loc[:,'Life expectancy'].to_numpy()\n",
    "    y = y.reshape(-1,1)\n",
    "    print('target shape:',y.shape)\n",
    "    return x,y"
   ]
  },
  {
   "cell_type": "code",
   "execution_count": 82,
   "id": "38def7da-885e-4713-a1d7-98733acf29ef",
   "metadata": {},
   "outputs": [],
   "source": [
    "class Linear_regression_model():\n",
    "    def __init__(self, nVariables):\n",
    "        self.w = np.random.rand(1,nVariables)\n",
    "        self.b = np.random.rand(1)\n",
    "    def pred(self,x):\n",
    "        return (x @ self.w.T) + self.b\n",
    "    def fit(self, x, y, lr=0.001, epochs= 10):\n",
    "        m = y.shape[0]\n",
    "        for epoch in range(epochs):\n",
    "            y_p = self.pred(x)\n",
    "            e = (y_p-y)\n",
    "            se = e*e\n",
    "            SE = se.sum()\n",
    "            MSE = (1/(2*m))*SE\n",
    "            print('Epoch:', epoch, 'RMSE:', math.sqrt(MSE))\n",
    "            k = x*e\n",
    "            dw = (k.sum(0))*(lr*(1/m))\n",
    "            db = (e.sum())*(lr*(1/m))\n",
    "            self.w = self.w - dw\n",
    "            self.b = self.b - db\n",
    "        y_p = self.pred(x)\n",
    "        e = (y_p-y)\n",
    "        se = e*e\n",
    "        SE = se.sum()\n",
    "        MSE = (1/(2*m))*SE\n",
    "        print('Final RMSE:', math.sqrt(MSE))"
   ]
  },
  {
   "cell_type": "code",
   "execution_count": 43,
   "id": "b7df94d9-9a60-417f-b608-11f4d09b1442",
   "metadata": {},
   "outputs": [
    {
     "name": "stdout",
     "output_type": "stream",
     "text": [
      "data shape: (2938, 22)\n",
      "shape after cleaning: (1649, 22)\n",
      "number of input features: 18\n",
      "training data shape: (1649, 18)\n",
      "target shape: (1649, 1)\n"
     ]
    }
   ],
   "source": [
    "x,y = DataLoader('./data.csv')"
   ]
  },
  {
   "cell_type": "code",
   "execution_count": null,
   "id": "4c440766-65dd-456e-b1ca-d88ff9243ab8",
   "metadata": {},
   "outputs": [],
   "source": [
    "\"\"\"\n",
    "model's parameters saturation is depending on their initialisation\n",
    "with rmse ranging from 8000 to 500\n",
    "below is training of selected models (out of ~15 trails) with model2 having best fit with rmse=530\n",
    "\"\"\""
   ]
  },
  {
   "cell_type": "code",
   "execution_count": 147,
   "id": "a095ce68-af0f-4b21-89a4-c0840cca66d3",
   "metadata": {},
   "outputs": [
    {
     "name": "stdout",
     "output_type": "stream",
     "text": [
      "Epoch: 0 RMSE: 50858122.46695829\n",
      "Epoch: 1 RMSE: 24531999.87398223\n",
      "Epoch: 2 RMSE: 11833292.229646333\n",
      "Epoch: 3 RMSE: 5707924.885745248\n",
      "Epoch: 4 RMSE: 2753283.993551462\n",
      "Epoch: 5 RMSE: 1328079.9040755893\n",
      "Epoch: 6 RMSE: 640618.1931440836\n",
      "Epoch: 7 RMSE: 309016.99027354363\n",
      "Epoch: 8 RMSE: 149073.32653994346\n",
      "Epoch: 9 RMSE: 71939.21253212728\n",
      "Epoch: 10 RMSE: 34766.92771057015\n",
      "Epoch: 11 RMSE: 16906.826869197666\n",
      "Epoch: 12 RMSE: 8432.532319762306\n",
      "Epoch: 13 RMSE: 4598.376786438356\n",
      "Epoch: 14 RMSE: 3085.475048309286\n",
      "Epoch: 15 RMSE: 2610.623944452188\n",
      "Epoch: 16 RMSE: 2487.1720185311087\n",
      "Epoch: 17 RMSE: 2457.55896073074\n",
      "Epoch: 18 RMSE: 2450.617473902063\n",
      "Epoch: 19 RMSE: 2448.9995347117883\n",
      "Final RMSE: 2448.6229074157377\n"
     ]
    }
   ],
   "source": [
    "#model0 - rmse: 2448.522266\n",
    "\n",
    "model0 = Linear_regression_model(18)\n",
    "lr = 1.0e-16\n",
    "epochs = 20\n",
    "model0.fit(x,y, lr=lr, epochs=epochs)"
   ]
  },
  {
   "cell_type": "code",
   "execution_count": 148,
   "id": "23ef95c4-58e3-4304-9cc8-0b08ed39dd83",
   "metadata": {},
   "outputs": [
    {
     "name": "stdout",
     "output_type": "stream",
     "text": [
      "Epoch: 0 RMSE: 2448.6229074157377\n",
      "Epoch: 1 RMSE: 2448.6113872078217\n",
      "Epoch: 2 RMSE: 2448.601028432375\n",
      "Epoch: 3 RMSE: 2448.591713969877\n",
      "Epoch: 4 RMSE: 2448.5833385104042\n",
      "Epoch: 5 RMSE: 2448.575807362977\n",
      "Epoch: 6 RMSE: 2448.5690353849222\n",
      "Epoch: 7 RMSE: 2448.5629460191576\n",
      "Epoch: 8 RMSE: 2448.5574704285186\n",
      "Epoch: 9 RMSE: 2448.5525467173597\n",
      "Epoch: 10 RMSE: 2448.5481192316265\n",
      "Epoch: 11 RMSE: 2448.544137929493\n",
      "Epoch: 12 RMSE: 2448.5405578154514\n",
      "Epoch: 13 RMSE: 2448.5373384314594\n",
      "Epoch: 14 RMSE: 2448.534443399395\n",
      "Epoch: 15 RMSE: 2448.5318400096385\n",
      "Epoch: 16 RMSE: 2448.529498851146\n",
      "Epoch: 17 RMSE: 2448.5273934788165\n",
      "Epoch: 18 RMSE: 2448.525500114404\n",
      "Epoch: 19 RMSE: 2448.523797377586\n",
      "Final RMSE: 2448.522266044151\n"
     ]
    }
   ],
   "source": [
    "lr = 1.0e-17\n",
    "epochs = 20\n",
    "model0.fit(x,y, lr=lr, epochs=epochs)"
   ]
  },
  {
   "cell_type": "code",
   "execution_count": 143,
   "id": "f65295a5-657b-4eb2-b7ff-49ace879e89a",
   "metadata": {},
   "outputs": [
    {
     "name": "stdout",
     "output_type": "stream",
     "text": [
      "Epoch: 0 RMSE: 13177470.30079238\n",
      "Epoch: 1 RMSE: 6356305.512633623\n",
      "Epoch: 2 RMSE: 3066039.6811806336\n",
      "Epoch: 3 RMSE: 1478945.0220232573\n",
      "Epoch: 4 RMSE: 713397.6318228454\n",
      "Epoch: 5 RMSE: 344139.3977104504\n",
      "Epoch: 6 RMSE: 166049.03308184215\n",
      "Epoch: 7 RMSE: 80198.0743950139\n",
      "Epoch: 8 RMSE: 38896.06889868765\n",
      "Epoch: 9 RMSE: 19194.475200833193\n",
      "Epoch: 10 RMSE: 10106.413452710101\n",
      "Epoch: 11 RMSE: 6338.896006904759\n",
      "Epoch: 12 RMSE: 5075.99004461153\n",
      "Epoch: 13 RMSE: 4734.076782330984\n",
      "Epoch: 14 RMSE: 4650.919685734478\n",
      "Epoch: 15 RMSE: 4631.357143444496\n",
      "Epoch: 16 RMSE: 4626.793563732834\n",
      "Epoch: 17 RMSE: 4625.73104742106\n",
      "Epoch: 18 RMSE: 4625.48374330284\n",
      "Epoch: 19 RMSE: 4625.426149835672\n",
      "Final RMSE: 4625.412698633611\n"
     ]
    }
   ],
   "source": [
    "#model1 - rmse: 4625.408992\n",
    "\n",
    "model1 = Linear_regression_model(18)\n",
    "lr = 1.0e-16\n",
    "epochs = 20\n",
    "model1.fit(x,y, lr=lr, epochs=epochs)"
   ]
  },
  {
   "cell_type": "code",
   "execution_count": 144,
   "id": "ec539bf3-dd4e-4c35-9a78-ae2297eda589",
   "metadata": {},
   "outputs": [
    {
     "name": "stdout",
     "output_type": "stream",
     "text": [
      "Epoch: 0 RMSE: 4625.412698633611\n",
      "Epoch: 1 RMSE: 4625.41228271497\n",
      "Epoch: 2 RMSE: 4625.41190807491\n",
      "Epoch: 3 RMSE: 4625.411570550562\n",
      "Epoch: 4 RMSE: 4625.411266398882\n",
      "Epoch: 5 RMSE: 4625.410992254297\n",
      "Epoch: 6 RMSE: 4625.410745090651\n",
      "Epoch: 7 RMSE: 4625.410522186968\n",
      "Epoch: 8 RMSE: 4625.410321096673\n",
      "Epoch: 9 RMSE: 4625.4101396199285\n",
      "Epoch: 10 RMSE: 4625.409975778745\n",
      "Epoch: 11 RMSE: 4625.409827794608\n",
      "Epoch: 12 RMSE: 4625.409694068363\n",
      "Epoch: 13 RMSE: 4625.40957316213\n",
      "Epoch: 14 RMSE: 4625.409463783034\n",
      "Epoch: 15 RMSE: 4625.409364768583\n",
      "Epoch: 16 RMSE: 4625.409275073522\n",
      "Epoch: 17 RMSE: 4625.409193758008\n",
      "Epoch: 18 RMSE: 4625.409119976978\n",
      "Epoch: 19 RMSE: 4625.4090529705945\n",
      "Final RMSE: 4625.408992055646\n"
     ]
    }
   ],
   "source": [
    "lr = 1.0e-17\n",
    "epochs = 20\n",
    "model1.fit(x,y, lr=lr, epochs=epochs)"
   ]
  },
  {
   "cell_type": "code",
   "execution_count": 154,
   "id": "24d8af38-e6d2-4703-b67c-ec75acbc45ee",
   "metadata": {},
   "outputs": [
    {
     "name": "stdout",
     "output_type": "stream",
     "text": [
      "Epoch: 0 RMSE: 28507741.445641454\n",
      "Epoch: 1 RMSE: 13751036.67525955\n",
      "Epoch: 2 RMSE: 6632970.569085027\n",
      "Epoch: 3 RMSE: 3199489.606859741\n",
      "Epoch: 4 RMSE: 1543310.6469380097\n",
      "Epoch: 5 RMSE: 744433.7695416857\n",
      "Epoch: 6 RMSE: 359086.4833500324\n",
      "Epoch: 7 RMSE: 173210.1141713194\n",
      "Epoch: 8 RMSE: 83551.1798098464\n",
      "Epoch: 9 RMSE: 40304.54774241143\n",
      "Epoch: 10 RMSE: 19446.908634786796\n",
      "Epoch: 11 RMSE: 9391.930618810016\n",
      "Epoch: 12 RMSE: 4554.050770859057\n",
      "Epoch: 13 RMSE: 2245.260417808802\n",
      "Epoch: 14 RMSE: 1178.4128765319097\n",
      "Epoch: 15 RMSE: 734.0377990471554\n",
      "Epoch: 16 RMSE: 584.0168958600998\n",
      "Epoch: 17 RMSE: 543.2016517393555\n",
      "Epoch: 18 RMSE: 533.2572518464203\n",
      "Epoch: 19 RMSE: 530.9167459870864\n",
      "Final RMSE: 530.3706873648647\n"
     ]
    }
   ],
   "source": [
    "#model2- rmse: 530.204847\n",
    "\n",
    "model2 = Linear_regression_model(18)\n",
    "lr = 1.0e-16\n",
    "epochs = 20\n",
    "model2.fit(x,y, lr=lr, epochs=epochs)"
   ]
  },
  {
   "cell_type": "code",
   "execution_count": 155,
   "id": "731486f6-f19e-4ab5-8c22-7b5adcdea7ca",
   "metadata": {},
   "outputs": [
    {
     "name": "stdout",
     "output_type": "stream",
     "text": [
      "Epoch: 0 RMSE: 530.3706873648647\n",
      "Epoch: 1 RMSE: 530.2435479781103\n",
      "Epoch: 2 RMSE: 530.2139558930447\n",
      "Epoch: 3 RMSE: 530.2070645280571\n",
      "Epoch: 4 RMSE: 530.2054552227975\n",
      "Epoch: 5 RMSE: 530.2050749202905\n",
      "Epoch: 6 RMSE: 530.2049805737196\n",
      "Epoch: 7 RMSE: 530.2049527612987\n",
      "Epoch: 8 RMSE: 530.2049404295544\n",
      "Epoch: 9 RMSE: 530.2049316997396\n",
      "Epoch: 10 RMSE: 530.2049238079953\n",
      "Epoch: 11 RMSE: 530.2049161112471\n",
      "Epoch: 12 RMSE: 530.2049084598693\n",
      "Epoch: 13 RMSE: 530.2049008190481\n",
      "Epoch: 14 RMSE: 530.2048931806831\n",
      "Epoch: 15 RMSE: 530.2048855428898\n",
      "Epoch: 16 RMSE: 530.2048779052295\n",
      "Epoch: 17 RMSE: 530.2048702676004\n",
      "Epoch: 18 RMSE: 530.2048626299786\n",
      "Epoch: 19 RMSE: 530.2048549923586\n",
      "Final RMSE: 530.2048473547392\n"
     ]
    }
   ],
   "source": [
    "lr = 1.0e-16\n",
    "epochs = 20\n",
    "model2.fit(x,y, lr=lr, epochs=epochs)"
   ]
  },
  {
   "cell_type": "code",
   "execution_count": null,
   "id": "48f3829a-d995-4e81-9d31-9c4478416ce9",
   "metadata": {},
   "outputs": [],
   "source": []
  }
 ],
 "metadata": {
  "kernelspec": {
   "display_name": "Python 3 (ipykernel)",
   "language": "python",
   "name": "python3"
  },
  "language_info": {
   "codemirror_mode": {
    "name": "ipython",
    "version": 3
   },
   "file_extension": ".py",
   "mimetype": "text/x-python",
   "name": "python",
   "nbconvert_exporter": "python",
   "pygments_lexer": "ipython3",
   "version": "3.12.4"
  }
 },
 "nbformat": 4,
 "nbformat_minor": 5
}
