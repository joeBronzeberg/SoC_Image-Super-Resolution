{
 "cells": [
  {
   "cell_type": "code",
   "execution_count": 169,
   "id": "e72c367e-34de-4694-b45d-c5fc77902861",
   "metadata": {},
   "outputs": [],
   "source": [
    "import pandas as pd\n",
    "import numpy as np\n",
    "import math"
   ]
  },
  {
   "cell_type": "code",
   "execution_count": 170,
   "id": "bea7e2f1-d465-4fd6-a320-f67b43aef352",
   "metadata": {},
   "outputs": [],
   "source": [
    "def DataLoader(path):\n",
    "    df = pd.read_csv(path)\n",
    "    print('data shape:',df.shape)\n",
    "    df= df.dropna()\n",
    "    print('shape after cleaning:',df.shape)\n",
    "    x = df.loc[:,:'glucose'].to_numpy()\n",
    "    print('number of input features:',x.shape[1])\n",
    "    print('training data shape:',x.shape)\n",
    "    y = df.loc[:,'TenYearCHD'].to_numpy()\n",
    "    y = y.reshape(-1,1)\n",
    "    print('target shape:',y.shape)\n",
    "    return x,y"
   ]
  },
  {
   "cell_type": "code",
   "execution_count": 171,
   "id": "71b3eec2-6133-4ccc-9bce-4426cbb5d7ff",
   "metadata": {},
   "outputs": [],
   "source": [
    "def fun(z):\n",
    "    return 1/(1+math.exp(-z))\n",
    "def classify(y_p):\n",
    "    if y_p>0.5:\n",
    "        return 1\n",
    "    return 0\n",
    "\n",
    "sig= np.vectorize(fun)\n",
    "pred=np.vectorize(classify)"
   ]
  },
  {
   "cell_type": "code",
   "execution_count": 172,
   "id": "801451d3-0f38-4135-8d5e-10b4518e991b",
   "metadata": {},
   "outputs": [],
   "source": [
    "def val(p,a):\n",
    "    if(p==a):\n",
    "        return 0 #true pred\n",
    "    elif(p==1):\n",
    "        return 1 #false positive\n",
    "    return -1  #false negative\n",
    "confusion= np.vectorize(val)"
   ]
  },
  {
   "cell_type": "code",
   "execution_count": 184,
   "id": "ac7d6cdd-defe-42c7-8c38-a276801b5d12",
   "metadata": {},
   "outputs": [],
   "source": [
    "class Logistic_regression_model():\n",
    "    def __init__(self, nVariables):\n",
    "        self.w = np.random.rand(1,nVariables)\n",
    "        self.b = np.random.rand(1)\n",
    "    def linear(self,x):\n",
    "        return (x @ self.w.T) + self.b\n",
    "    def metrics(self,y_pc,y):\n",
    "        cm = confusion(y_pc,y)\n",
    "        return (cm==0).sum(), (cm==1).sum(), (cm==-1).sum()\n",
    "    def fit(self, x, y, lr=0.001, epochs= 10):\n",
    "        m = y.shape[0]\n",
    "        for epoch in range(epochs):\n",
    "            z = self.linear(x)\n",
    "            y_p = sig(z)\n",
    "            y_pc = pred(y_p)\n",
    "            t,fp,fn = self.metrics(y_pc,y)\n",
    "            print(epoch,'Accuracy:',t*100/m,'%','False positive:',fp*100/m,'%','False negative:',fn*100/m,'%')\n",
    "            e = (y_p-y)\n",
    "            k = x*e\n",
    "            dw = (k.sum(0))*(lr*(1/m))\n",
    "            db = (e.sum())*(lr*(1/m))\n",
    "            self.w = self.w - dw\n",
    "            self.b = self.b - db\n",
    "        z = self.linear(x)\n",
    "        y_p = sig(z)\n",
    "        y_pc = pred(y_p)\n",
    "        t,fp,fn = self.metrics(y_pc,y)\n",
    "        print('Final Accuracy:',t*100/m,'%','False positive:',fp*100/m,'%','False negative:',fn*100/m,'%')\n",
    "        "
   ]
  },
  {
   "cell_type": "code",
   "execution_count": 174,
   "id": "823315d1-74b2-485c-ac4f-81a794526f5b",
   "metadata": {},
   "outputs": [
    {
     "name": "stdout",
     "output_type": "stream",
     "text": [
      "data shape: (4238, 16)\n",
      "shape after cleaning: (3656, 16)\n",
      "number of input features: 15\n",
      "training data shape: (3656, 15)\n",
      "target shape: (3656, 1)\n"
     ]
    }
   ],
   "source": [
    "x,y = DataLoader('./w1p2_data.csv')"
   ]
  },
  {
   "cell_type": "code",
   "execution_count": null,
   "id": "705d620a-d597-4cee-b429-549f98d90ce8",
   "metadata": {},
   "outputs": [],
   "source": [
    "#below is training of 3 models"
   ]
  },
  {
   "cell_type": "code",
   "execution_count": 203,
   "id": "415a7c19-e822-476b-9566-1101eb559f14",
   "metadata": {},
   "outputs": [
    {
     "name": "stdout",
     "output_type": "stream",
     "text": [
      "0 Accuracy: 15.23522975929978 % False positive: 84.76477024070022 % False negative: 0.0 %\n",
      "1 Accuracy: 15.23522975929978 % False positive: 84.76477024070022 % False negative: 0.0 %\n",
      "2 Accuracy: 15.23522975929978 % False positive: 84.76477024070022 % False negative: 0.0 %\n",
      "3 Accuracy: 15.23522975929978 % False positive: 84.76477024070022 % False negative: 0.0 %\n",
      "4 Accuracy: 15.23522975929978 % False positive: 84.76477024070022 % False negative: 0.0 %\n",
      "5 Accuracy: 15.23522975929978 % False positive: 84.76477024070022 % False negative: 0.0 %\n",
      "6 Accuracy: 83.86214442013129 % False positive: 1.5590809628008753 % False negative: 14.578774617067834 %\n",
      "7 Accuracy: 77.68052516411379 % False positive: 9.710065645514224 % False negative: 12.609409190371991 %\n",
      "8 Accuracy: 73.41356673960613 % False positive: 15.262582056892779 % False negative: 11.323851203501095 %\n",
      "9 Accuracy: 75.68380743982495 % False positive: 12.335886214442013 % False negative: 11.980306345733041 %\n",
      "Final Accuracy: 74.34354485776805 % False positive: 14.086433260393873 % False negative: 11.570021881838075 %\n"
     ]
    }
   ],
   "source": [
    "model0 = Logistic_regression_model(15)\n",
    "lr = 0.001\n",
    "epochs = 10\n",
    "model0.fit(x,y, lr=lr, epochs=epochs)"
   ]
  },
  {
   "cell_type": "code",
   "execution_count": 204,
   "id": "b0b2a941-3f3b-4b4f-9d81-19faea212943",
   "metadata": {},
   "outputs": [
    {
     "name": "stdout",
     "output_type": "stream",
     "text": [
      "0 Accuracy: 74.34354485776805 % False positive: 14.086433260393873 % False negative: 11.570021881838075 %\n",
      "1 Accuracy: 74.37089715536105 % False positive: 14.031728665207877 % False negative: 11.597374179431073 %\n",
      "2 Accuracy: 74.48030634573304 % False positive: 13.894967177242888 % False negative: 11.62472647702407 %\n",
      "3 Accuracy: 74.53501094091904 % False positive: 13.840262582056893 % False negative: 11.62472647702407 %\n",
      "4 Accuracy: 74.56236323851203 % False positive: 13.812910284463895 % False negative: 11.62472647702407 %\n",
      "5 Accuracy: 74.64442013129103 % False positive: 13.730853391684901 % False negative: 11.62472647702407 %\n",
      "6 Accuracy: 74.67177242888403 % False positive: 13.703501094091903 % False negative: 11.62472647702407 %\n",
      "7 Accuracy: 74.69912472647702 % False positive: 13.676148796498905 % False negative: 11.62472647702407 %\n",
      "8 Accuracy: 74.72647702407002 % False positive: 13.648796498905908 % False negative: 11.62472647702407 %\n",
      "9 Accuracy: 74.78118161925602 % False positive: 13.594091903719912 % False negative: 11.62472647702407 %\n",
      "Final Accuracy: 74.78118161925602 % False positive: 13.594091903719912 % False negative: 11.62472647702407 %\n"
     ]
    }
   ],
   "source": [
    "lr = 0.0001\n",
    "epochs = 10\n",
    "model0.fit(x,y, lr=lr, epochs=epochs)"
   ]
  },
  {
   "cell_type": "code",
   "execution_count": 215,
   "id": "9aa651cf-a56f-4ee0-b9df-7a77f47990f9",
   "metadata": {},
   "outputs": [
    {
     "name": "stdout",
     "output_type": "stream",
     "text": [
      "0 Accuracy: 15.23522975929978 % False positive: 84.76477024070022 % False negative: 0.0 %\n",
      "1 Accuracy: 15.23522975929978 % False positive: 84.76477024070022 % False negative: 0.0 %\n",
      "2 Accuracy: 15.23522975929978 % False positive: 84.76477024070022 % False negative: 0.0 %\n",
      "3 Accuracy: 15.23522975929978 % False positive: 84.76477024070022 % False negative: 0.0 %\n",
      "4 Accuracy: 15.23522975929978 % False positive: 84.76477024070022 % False negative: 0.0 %\n",
      "5 Accuracy: 15.23522975929978 % False positive: 84.76477024070022 % False negative: 0.0 %\n",
      "6 Accuracy: 14.9890590809628 % False positive: 84.57330415754923 % False negative: 0.437636761487965 %\n",
      "7 Accuracy: 82.52188183807439 % False positive: 3.1728665207877462 % False negative: 14.305251641137856 %\n",
      "8 Accuracy: 78.7199124726477 % False positive: 8.205689277899344 % False negative: 13.074398249452955 %\n",
      "9 Accuracy: 75.60175054704595 % False positive: 12.335886214442013 % False negative: 12.062363238512035 %\n",
      "Final Accuracy: 74.89059080962801 % False positive: 13.402625820568927 % False negative: 11.706783369803064 %\n"
     ]
    }
   ],
   "source": [
    "model1 = Logistic_regression_model(15)\n",
    "lr = 0.0008\n",
    "epochs = 10\n",
    "model1.fit(x,y, lr=lr, epochs=epochs)"
   ]
  },
  {
   "cell_type": "code",
   "execution_count": 216,
   "id": "104b923f-3d0c-4aa7-a865-f0edd33f7ba4",
   "metadata": {},
   "outputs": [
    {
     "name": "stdout",
     "output_type": "stream",
     "text": [
      "0 Accuracy: 74.89059080962801 % False positive: 13.402625820568927 % False negative: 11.706783369803064 %\n",
      "1 Accuracy: 74.89059080962801 % False positive: 13.402625820568927 % False negative: 11.706783369803064 %\n",
      "2 Accuracy: 74.89059080962801 % False positive: 13.402625820568927 % False negative: 11.706783369803064 %\n",
      "3 Accuracy: 74.89059080962801 % False positive: 13.402625820568927 % False negative: 11.706783369803064 %\n",
      "4 Accuracy: 74.89059080962801 % False positive: 13.402625820568927 % False negative: 11.706783369803064 %\n",
      "5 Accuracy: 74.89059080962801 % False positive: 13.402625820568927 % False negative: 11.706783369803064 %\n",
      "6 Accuracy: 74.89059080962801 % False positive: 13.402625820568927 % False negative: 11.706783369803064 %\n",
      "7 Accuracy: 74.89059080962801 % False positive: 13.402625820568927 % False negative: 11.706783369803064 %\n",
      "8 Accuracy: 74.89059080962801 % False positive: 13.402625820568927 % False negative: 11.706783369803064 %\n",
      "9 Accuracy: 74.86323851203501 % False positive: 13.429978118161925 % False negative: 11.706783369803064 %\n",
      "Final Accuracy: 74.86323851203501 % False positive: 13.429978118161925 % False negative: 11.706783369803064 %\n"
     ]
    }
   ],
   "source": [
    "lr = 0.0001\n",
    "epochs = 10\n",
    "model1.fit(x,y, lr=lr, epochs=epochs)"
   ]
  },
  {
   "cell_type": "code",
   "execution_count": 220,
   "id": "8df0b33b-0094-45f3-a3c8-a44a8d265381",
   "metadata": {},
   "outputs": [
    {
     "name": "stdout",
     "output_type": "stream",
     "text": [
      "0 Accuracy: 15.23522975929978 % False positive: 84.76477024070022 % False negative: 0.0 %\n",
      "1 Accuracy: 15.23522975929978 % False positive: 84.76477024070022 % False negative: 0.0 %\n",
      "2 Accuracy: 15.23522975929978 % False positive: 84.76477024070022 % False negative: 0.0 %\n",
      "3 Accuracy: 15.23522975929978 % False positive: 84.76477024070022 % False negative: 0.0 %\n",
      "4 Accuracy: 15.153172866520787 % False positive: 84.68271334792122 % False negative: 0.16411378555798686 %\n",
      "5 Accuracy: 67.39606126914661 % False positive: 20.97921225382932 % False negative: 11.62472647702407 %\n",
      "6 Accuracy: 72.5109409190372 % False positive: 14.742888402625821 % False negative: 12.74617067833698 %\n",
      "7 Accuracy: 72.62035010940919 % False positive: 14.551422319474836 % False negative: 12.828227571115974 %\n",
      "8 Accuracy: 72.64770240700219 % False positive: 14.524070021881839 % False negative: 12.828227571115974 %\n",
      "9 Accuracy: 72.64770240700219 % False positive: 14.524070021881839 % False negative: 12.828227571115974 %\n",
      "Final Accuracy: 72.64770240700219 % False positive: 14.524070021881839 % False negative: 12.828227571115974 %\n"
     ]
    }
   ],
   "source": [
    "model2 = Logistic_regression_model(15)\n",
    "lr = 0.0005\n",
    "epochs = 10\n",
    "model2.fit(x,y, lr=lr, epochs=epochs)"
   ]
  },
  {
   "cell_type": "code",
   "execution_count": 221,
   "id": "060d3429-0d18-42f2-b210-8ea06e12da3d",
   "metadata": {},
   "outputs": [
    {
     "name": "stdout",
     "output_type": "stream",
     "text": [
      "0 Accuracy: 72.64770240700219 % False positive: 14.524070021881839 % False negative: 12.828227571115974 %\n",
      "1 Accuracy: 72.64770240700219 % False positive: 14.524070021881839 % False negative: 12.828227571115974 %\n",
      "2 Accuracy: 72.64770240700219 % False positive: 14.524070021881839 % False negative: 12.828227571115974 %\n",
      "3 Accuracy: 72.67505470459518 % False positive: 14.49671772428884 % False negative: 12.828227571115974 %\n",
      "4 Accuracy: 72.67505470459518 % False positive: 14.49671772428884 % False negative: 12.828227571115974 %\n",
      "5 Accuracy: 72.67505470459518 % False positive: 14.49671772428884 % False negative: 12.828227571115974 %\n",
      "6 Accuracy: 72.67505470459518 % False positive: 14.49671772428884 % False negative: 12.828227571115974 %\n",
      "7 Accuracy: 72.67505470459518 % False positive: 14.49671772428884 % False negative: 12.828227571115974 %\n",
      "8 Accuracy: 72.70240700218818 % False positive: 14.49671772428884 % False negative: 12.800875273522976 %\n",
      "9 Accuracy: 72.70240700218818 % False positive: 14.49671772428884 % False negative: 12.800875273522976 %\n",
      "Final Accuracy: 72.70240700218818 % False positive: 14.49671772428884 % False negative: 12.800875273522976 %\n"
     ]
    }
   ],
   "source": [
    "lr = 0.0001\n",
    "epochs = 10\n",
    "model2.fit(x,y, lr=lr, epochs=epochs)"
   ]
  },
  {
   "cell_type": "code",
   "execution_count": null,
   "id": "4a4bfb50-4292-4d18-bfd2-e1729826f61f",
   "metadata": {},
   "outputs": [],
   "source": []
  }
 ],
 "metadata": {
  "kernelspec": {
   "display_name": "Python 3 (ipykernel)",
   "language": "python",
   "name": "python3"
  },
  "language_info": {
   "codemirror_mode": {
    "name": "ipython",
    "version": 3
   },
   "file_extension": ".py",
   "mimetype": "text/x-python",
   "name": "python",
   "nbconvert_exporter": "python",
   "pygments_lexer": "ipython3",
   "version": "3.12.4"
  }
 },
 "nbformat": 4,
 "nbformat_minor": 5
}
