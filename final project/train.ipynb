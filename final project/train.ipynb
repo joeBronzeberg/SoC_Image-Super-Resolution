{
 "cells": [
  {
   "cell_type": "code",
   "execution_count": 1,
   "id": "5620ac50-3d6e-4881-96ca-31aaea51d89f",
   "metadata": {},
   "outputs": [],
   "source": [
    "import torch\n",
    "import torch.nn as nn\n",
    "import torch.optim as optim\n",
    "from torch.utils.data import DataLoader"
   ]
  },
  {
   "cell_type": "code",
   "execution_count": 2,
   "id": "a34fe1be-7056-49cb-b414-0a4dd5c7cfd6",
   "metadata": {},
   "outputs": [],
   "source": [
    "from config import Config\n",
    "from dataset import SRDataset\n",
    "from model import FSRCNN\n",
    "from utils import PSNR, AverageMeter, save_evaluation_image"
   ]
  },
  {
   "cell_type": "code",
   "execution_count": 3,
   "id": "40b92769-514a-4573-b006-ffc4adfa06fd",
   "metadata": {},
   "outputs": [
    {
     "name": "stderr",
     "output_type": "stream",
     "text": [
      "C:\\Users\\sahil\\AppData\\Local\\Programs\\Python\\Python312\\Lib\\site-packages\\torch\\optim\\lr_scheduler.py:28: UserWarning: The verbose parameter is deprecated. Please use get_last_lr() to access the learning rate.\n",
      "  warnings.warn(\"The verbose parameter is deprecated. Please use get_last_lr() \"\n"
     ]
    }
   ],
   "source": [
    "cfg = Config()\n",
    "\n",
    "\n",
    "model = FSRCNN(scale_factor=cfg.scale_factor, d=cfg.d, c=cfg.c, s=cfg.s, m=cfg.m)\n",
    "criterion = nn.MSELoss()\n",
    "optimizer = optim.SGD(model.parameters(), cfg.learning_rate)\n",
    "\n",
    "scheduler = optim.lr_scheduler.ReduceLROnPlateau(\n",
    "    optimizer, mode='min', factor=cfg.factor, patience=cfg.patience, min_lr=cfg.min_learning_rate, verbose=False\n",
    ")"
   ]
  },
  {
   "cell_type": "code",
   "execution_count": 4,
   "id": "5db469e4-c45a-42b4-927a-240ed0065e70",
   "metadata": {},
   "outputs": [
    {
     "name": "stdout",
     "output_type": "stream",
     "text": [
      "FSRCNN [ c= 1 , d= 56 , s= 12 , m= 4 ]\n"
     ]
    }
   ],
   "source": [
    "dataloader = DataLoader(\n",
    "    SRDataset(f\"./data/{cfg.dataset_name}\", hr_shape=cfg.hr_shape, scale_factor=cfg.scale_factor),\n",
    "    batch_size=cfg.batch_size,\n",
    "    shuffle=True,\n",
    "    num_workers=cfg.n_cpu,\n",
    ")\n",
    "\n",
    "\n",
    "val_dataloader = DataLoader(\n",
    "    SRDataset(f\"./data/{cfg.val_dataset_name}\", hr_shape=cfg.hr_shape, scale_factor=cfg.scale_factor),\n",
    "    batch_size=cfg.batch_size,\n",
    "    shuffle=False,\n",
    "    num_workers=cfg.n_cpu,\n",
    ")\n",
    "\n",
    "\n",
    "test_dataloader = DataLoader(\n",
    "    SRDataset(f\"./data/{cfg.test_dataset_name}\", hr_shape=cfg.hr_shape, scale_factor=cfg.scale_factor),\n",
    "    batch_size=cfg.test_batch_size,\n",
    "    shuffle=False,\n",
    "    num_workers=1,\n",
    ")\n",
    "print(cfg.model_name,\"[ c=\",cfg.c,\", d=\",cfg.d,\", s=\",cfg.s,\", m=\",cfg.m,\"]\")"
   ]
  },
  {
   "cell_type": "code",
   "execution_count": 5,
   "id": "f91fca91-d3b7-4fbc-9c85-4938ce481e5f",
   "metadata": {},
   "outputs": [
    {
     "name": "stdout",
     "output_type": "stream",
     "text": [
      "torch.Size([1, 64, 64]) torch.Size([1, 256, 256]) torch.Size([1, 256, 256])\n"
     ]
    }
   ],
   "source": [
    "epoch = -1\n",
    "model.eval()\n",
    "for lr_imgs, hr_imgs in test_dataloader:\n",
    "            sr_imgs = model(lr_imgs)\n",
    "            lr_tensor = lr_imgs[0]\n",
    "            hr_tensor = hr_imgs[0]\n",
    "            sr_tensor = sr_imgs[0]\n",
    "            print(lr_tensor.shape,hr_tensor.shape,sr_tensor.shape)\n",
    "            save_evaluation_image(epoch,lr_tensor, hr_tensor, sr_tensor, f\"training/{cfg.model_name}\")\n",
    "    "
   ]
  },
  {
   "cell_type": "code",
   "execution_count": 6,
   "id": "77d220f7-0548-495d-a15c-1654a46bec8e",
   "metadata": {},
   "outputs": [
    {
     "name": "stdout",
     "output_type": "stream",
     "text": [
      "Epoch [1/60], Train Loss: 0.242547, Val Loss: 0.219942\n",
      "Epoch [2/60], Train Loss: 0.229755, Val Loss: 0.215982\n",
      "Epoch [3/60], Train Loss: 0.221338, Val Loss: 0.196508\n",
      "Epoch [4/60], Train Loss: 0.212460, Val Loss: 0.199392\n",
      "Epoch [5/60], Train Loss: 0.200129, Val Loss: 0.168621\n",
      "Epoch [6/60], Train Loss: 0.185659, Val Loss: 0.176851\n",
      "Epoch [7/60], Train Loss: 0.183668, Val Loss: 0.159752\n",
      "Epoch [8/60], Train Loss: 0.171092, Val Loss: 0.159390\n",
      "Epoch [9/60], Train Loss: 0.161808, Val Loss: 0.151544\n",
      "Epoch [10/60], Train Loss: 0.149461, Val Loss: 0.142877\n",
      "Epoch [11/60], Train Loss: 0.140869, Val Loss: 0.124358\n",
      "Epoch [12/60], Train Loss: 0.132871, Val Loss: 0.113742\n",
      "Epoch [13/60], Train Loss: 0.123105, Val Loss: 0.112220\n",
      "Epoch [14/60], Train Loss: 0.114716, Val Loss: 0.101930\n",
      "Epoch [15/60], Train Loss: 0.103627, Val Loss: 0.089432\n",
      "Epoch [16/60], Train Loss: 0.094786, Val Loss: 0.076421\n",
      "Epoch [17/60], Train Loss: 0.091156, Val Loss: 0.077763\n",
      "Epoch [18/60], Train Loss: 0.078471, Val Loss: 0.073009\n",
      "Epoch [19/60], Train Loss: 0.070509, Val Loss: 0.063099\n",
      "Epoch [20/60], Train Loss: 0.062847, Val Loss: 0.058380\n",
      "Epoch [21/60], Train Loss: 0.057034, Val Loss: 0.049125\n",
      "Epoch [22/60], Train Loss: 0.051554, Val Loss: 0.045519\n",
      "Epoch [23/60], Train Loss: 0.047113, Val Loss: 0.040690\n",
      "Epoch [24/60], Train Loss: 0.041610, Val Loss: 0.036446\n",
      "Epoch [25/60], Train Loss: 0.037223, Val Loss: 0.031792\n",
      "Epoch [26/60], Train Loss: 0.034054, Val Loss: 0.031463\n",
      "Epoch [27/60], Train Loss: 0.030734, Val Loss: 0.027133\n",
      "Epoch [28/60], Train Loss: 0.028919, Val Loss: 0.024477\n",
      "Epoch [29/60], Train Loss: 0.027189, Val Loss: 0.024833\n",
      "Epoch [30/60], Train Loss: 0.025090, Val Loss: 0.026088\n",
      "Epoch [31/60], Train Loss: 0.023934, Val Loss: 0.023755\n",
      "Epoch [32/60], Train Loss: 0.023538, Val Loss: 0.024666\n",
      "Epoch [33/60], Train Loss: 0.022841, Val Loss: 0.024302\n",
      "Epoch [34/60], Train Loss: 0.022400, Val Loss: 0.023136\n",
      "Epoch [35/60], Train Loss: 0.022281, Val Loss: 0.021475\n",
      "Epoch [36/60], Train Loss: 0.021348, Val Loss: 0.020882\n",
      "Epoch [37/60], Train Loss: 0.021565, Val Loss: 0.021735\n",
      "Epoch [38/60], Train Loss: 0.021619, Val Loss: 0.021926\n",
      "Epoch [39/60], Train Loss: 0.021137, Val Loss: 0.020412\n",
      "Epoch [40/60], Train Loss: 0.020588, Val Loss: 0.021567\n",
      "Epoch [41/60], Train Loss: 0.020965, Val Loss: 0.021844\n",
      "Epoch [42/60], Train Loss: 0.020298, Val Loss: 0.020093\n",
      "Epoch [43/60], Train Loss: 0.020754, Val Loss: 0.022325\n",
      "Epoch [44/60], Train Loss: 0.021052, Val Loss: 0.020401\n",
      "Epoch [45/60], Train Loss: 0.020648, Val Loss: 0.020151\n",
      "Epoch [46/60], Train Loss: 0.020972, Val Loss: 0.020044\n",
      "Epoch [47/60], Train Loss: 0.020127, Val Loss: 0.022063\n",
      "Epoch [48/60], Train Loss: 0.020264, Val Loss: 0.021768\n",
      "Epoch [49/60], Train Loss: 0.020232, Val Loss: 0.019412\n",
      "Epoch [50/60], Train Loss: 0.020436, Val Loss: 0.020516\n",
      "Epoch [51/60], Train Loss: 0.020680, Val Loss: 0.019287\n",
      "Epoch [52/60], Train Loss: 0.020289, Val Loss: 0.020650\n",
      "Epoch [53/60], Train Loss: 0.019470, Val Loss: 0.019797\n",
      "Epoch [54/60], Train Loss: 0.019918, Val Loss: 0.021971\n",
      "Epoch [55/60], Train Loss: 0.020391, Val Loss: 0.019536\n",
      "Epoch [56/60], Train Loss: 0.020199, Val Loss: 0.021066\n",
      "Epoch [57/60], Train Loss: 0.019885, Val Loss: 0.020941\n",
      "Epoch [58/60], Train Loss: 0.020269, Val Loss: 0.019841\n",
      "Epoch [59/60], Train Loss: 0.020124, Val Loss: 0.019426\n",
      "Epoch [60/60], Train Loss: 0.019461, Val Loss: 0.020955\n"
     ]
    }
   ],
   "source": [
    "for epoch in range(cfg.num_epochs):\n",
    "    model.train()\n",
    "    epoch_loss = AverageMeter()\n",
    "\n",
    "    for lr_imgs, hr_imgs in dataloader:\n",
    "\n",
    "        optimizer.zero_grad()\n",
    "\n",
    "        sr_imgs = model(lr_imgs)\n",
    "\n",
    "        loss = criterion(sr_imgs, hr_imgs)\n",
    "        loss.backward()\n",
    "        optimizer.step()\n",
    "\n",
    "        epoch_loss.update(loss.item(),len(lr_imgs))\n",
    "\n",
    "    val_loss = AverageMeter()\n",
    "    model.eval()\n",
    "\n",
    "    for lr_imgs, hr_imgs in val_dataloader:\n",
    "\n",
    "        with torch.no_grad():\n",
    "            sr_imgs = model(lr_imgs).clamp(0.0, 1.0)\n",
    "\n",
    "        loss = criterion(sr_imgs, hr_imgs)\n",
    "          \n",
    "        val_loss.update(loss.item(),len(lr_imgs))\n",
    "\n",
    "    scheduler.step(val_loss.avg)\n",
    "\n",
    "    print(f\"Epoch [{epoch+1}/{cfg.num_epochs}], Train Loss: {epoch_loss.avg:.6f}, Val Loss: {val_loss.avg:.6f}\")\n",
    "\n",
    "    if (epoch + 1) % 10 == 0:\n",
    "\n",
    "        model.eval()\n",
    "        for lr_imgs, hr_imgs in test_dataloader:\n",
    "            with torch.no_grad():\n",
    "                sr_imgs = model(lr_imgs).clamp(0.0, 1.0)\n",
    "            lr_tensor = lr_imgs[0]\n",
    "            hr_tensor = hr_imgs[0]\n",
    "            sr_tensor = sr_imgs[0]\n",
    "            save_evaluation_image(epoch,lr_tensor, hr_tensor, sr_tensor, f\"training/{cfg.model_name}\")\n",
    "        \n",
    "        torch.save(model.state_dict(), f\"./saved_models/{cfg.model_name}/fsrcnnx4_epoch_{epoch+1}.pth\")\n"
   ]
  },
  {
   "cell_type": "code",
   "execution_count": null,
   "id": "2cb185ab-bc5f-48b9-9bf9-4c8cc0ab9841",
   "metadata": {},
   "outputs": [],
   "source": []
  }
 ],
 "metadata": {
  "kernelspec": {
   "display_name": "Python 3 (ipykernel)",
   "language": "python",
   "name": "python3"
  },
  "language_info": {
   "codemirror_mode": {
    "name": "ipython",
    "version": 3
   },
   "file_extension": ".py",
   "mimetype": "text/x-python",
   "name": "python",
   "nbconvert_exporter": "python",
   "pygments_lexer": "ipython3",
   "version": "3.12.4"
  }
 },
 "nbformat": 4,
 "nbformat_minor": 5
}
